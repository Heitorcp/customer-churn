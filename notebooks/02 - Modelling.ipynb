{
 "cells": [
  {
   "cell_type": "markdown",
   "id": "cd30ec9f",
   "metadata": {},
   "source": [
    "# Modelling"
   ]
  },
  {
   "cell_type": "markdown",
   "id": "e3c73fe7",
   "metadata": {},
   "source": [
    "We'll create a Churn Prediction model based on the data explored in the notebook: `01 - EDA.ipynb`"
   ]
  },
  {
   "cell_type": "code",
   "execution_count": null,
   "id": "bb959e21",
   "metadata": {},
   "outputs": [],
   "source": []
  }
 ],
 "metadata": {
  "kernelspec": {
   "display_name": "telco-customer-churn",
   "language": "python",
   "name": "python3"
  },
  "language_info": {
   "codemirror_mode": {
    "name": "ipython",
    "version": 3
   },
   "file_extension": ".py",
   "mimetype": "text/x-python",
   "name": "python",
   "nbconvert_exporter": "python",
   "pygments_lexer": "ipython3",
   "version": "3.12.4"
  }
 },
 "nbformat": 4,
 "nbformat_minor": 5
}
